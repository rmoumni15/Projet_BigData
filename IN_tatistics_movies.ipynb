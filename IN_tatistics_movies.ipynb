{
 "cells": [
  {
   "cell_type": "code",
   "execution_count": 11,
   "metadata": {},
   "outputs": [],
   "source": [
    "import pandas as pd"
   ]
  },
  {
   "cell_type": "code",
   "execution_count": 12,
   "metadata": {},
   "outputs": [],
   "source": [
    "data = pd.read_json(\"test.json\")"
   ]
  },
  {
   "cell_type": "code",
   "execution_count": 13,
   "metadata": {},
   "outputs": [
    {
     "data": {
      "text/plain": "                                                name  rank  \\\n0  Portrait of a Lady on Fire (Portrait de la jeu...  0.98   \n1                                        1917 (2020)  0.89   \n2                           The Invisible Man (2020)  0.91   \n3                    Ma Rainey's Black Bottom (2020)  0.99   \n4               Never Rarely Sometimes Always (2020)  0.99   \n5                                        Soul (2020)  0.95   \n6                                    Hamilton (2020)  0.98   \n7                                   Nomadland (2020)  0.97   \n8                                 Da 5 Bloods (2020)  0.92   \n9                              Sound of Metal (2020)  0.97   \n\n                                          genres score  \\\n0                        romance, history, drama  0.92   \n1                            war, history, drama  0.88   \n2                   horror, mystery and thriller  0.88   \n3                          music, drama, history   0.8   \n4                                          drama   0.2   \n5  comedy, kids and family, animation, adventure  0.89   \n6                                        musical   0.9   \n7                                          drama  None   \n8                                     war, drama  0.53   \n9                                   drama, music  0.89   \n\n                                             reviews          langage  \\\n0  [...an exquisite love story., Even without sho...  French (France)   \n1  [As a genre piece, I think it's really interes...          English   \n2  [There's a lot more to think about than a typi...          English   \n3  [Ma Rainey has the weight of Hollywood power p...          English   \n4  [An enlightening script, expert ensemble actin...          English   \n5  [I'm a fan for a number of reasons...it popped...          English   \n6  [In a single song, Renee Elise Goldsberry show...          English   \n7  [A captivating, immersive and deeply emotional...          English   \n8  [From its sweeping jungle vistas to its full-f...          English   \n9  [A purposefully-quiet film..., Riz Ahmed deliv...          English   \n\n          director                 writer  date_theatre date_streaming  \\\n0   Céline Sciamma         Céline Sciamma   Dec 6, 2019    Apr 3, 2020   \n1       Sam Mendes             Sam Mendes  Jan 10, 2020   Dec 25, 2019   \n2   Leigh Whannell         Leigh Whannell  Feb 28, 2020   Mar 20, 2020   \n3  George C. Wolfe  Ruben Santiago-Hudson  Nov 25, 2020   Dec 18, 2020   \n4    Eliza Hittman          Eliza Hittman  Mar 13, 2020    Apr 3, 2020   \n5      Pete Docter            Pete Docter          None   Dec 25, 2020   \n6      Thomas Kail            Ron Chernow          None    Jul 3, 2020   \n7       Chloé Zhao             Chloé Zhao  Feb 19, 2021           None   \n8        Spike Lee              Spike Lee          None   Jun 13, 2020   \n9    Darius Marder          Darius Marder  Nov 20, 2020    Dec 4, 2020   \n\n  box_office   duree  \n0      $3.8M   2h 1m  \n1    $159.2M  1h 59m  \n2     $64.3M   2h 4m  \n3       None  1h 34m  \n4     $16.3K  1h 41m  \n5       None  1h 40m  \n6       None  2h 40m  \n7       None  1h 48m  \n8       None  2h 35m  \n9       None      2h  ",
      "text/html": "<div>\n<style scoped>\n    .dataframe tbody tr th:only-of-type {\n        vertical-align: middle;\n    }\n\n    .dataframe tbody tr th {\n        vertical-align: top;\n    }\n\n    .dataframe thead th {\n        text-align: right;\n    }\n</style>\n<table border=\"1\" class=\"dataframe\">\n  <thead>\n    <tr style=\"text-align: right;\">\n      <th></th>\n      <th>name</th>\n      <th>rank</th>\n      <th>genres</th>\n      <th>score</th>\n      <th>reviews</th>\n      <th>langage</th>\n      <th>director</th>\n      <th>writer</th>\n      <th>date_theatre</th>\n      <th>date_streaming</th>\n      <th>box_office</th>\n      <th>duree</th>\n    </tr>\n  </thead>\n  <tbody>\n    <tr>\n      <th>0</th>\n      <td>Portrait of a Lady on Fire (Portrait de la jeu...</td>\n      <td>0.98</td>\n      <td>romance, history, drama</td>\n      <td>0.92</td>\n      <td>[...an exquisite love story., Even without sho...</td>\n      <td>French (France)</td>\n      <td>Céline Sciamma</td>\n      <td>Céline Sciamma</td>\n      <td>Dec 6, 2019</td>\n      <td>Apr 3, 2020</td>\n      <td>$3.8M</td>\n      <td>2h 1m</td>\n    </tr>\n    <tr>\n      <th>1</th>\n      <td>1917 (2020)</td>\n      <td>0.89</td>\n      <td>war, history, drama</td>\n      <td>0.88</td>\n      <td>[As a genre piece, I think it's really interes...</td>\n      <td>English</td>\n      <td>Sam Mendes</td>\n      <td>Sam Mendes</td>\n      <td>Jan 10, 2020</td>\n      <td>Dec 25, 2019</td>\n      <td>$159.2M</td>\n      <td>1h 59m</td>\n    </tr>\n    <tr>\n      <th>2</th>\n      <td>The Invisible Man (2020)</td>\n      <td>0.91</td>\n      <td>horror, mystery and thriller</td>\n      <td>0.88</td>\n      <td>[There's a lot more to think about than a typi...</td>\n      <td>English</td>\n      <td>Leigh Whannell</td>\n      <td>Leigh Whannell</td>\n      <td>Feb 28, 2020</td>\n      <td>Mar 20, 2020</td>\n      <td>$64.3M</td>\n      <td>2h 4m</td>\n    </tr>\n    <tr>\n      <th>3</th>\n      <td>Ma Rainey's Black Bottom (2020)</td>\n      <td>0.99</td>\n      <td>music, drama, history</td>\n      <td>0.8</td>\n      <td>[Ma Rainey has the weight of Hollywood power p...</td>\n      <td>English</td>\n      <td>George C. Wolfe</td>\n      <td>Ruben Santiago-Hudson</td>\n      <td>Nov 25, 2020</td>\n      <td>Dec 18, 2020</td>\n      <td>None</td>\n      <td>1h 34m</td>\n    </tr>\n    <tr>\n      <th>4</th>\n      <td>Never Rarely Sometimes Always (2020)</td>\n      <td>0.99</td>\n      <td>drama</td>\n      <td>0.2</td>\n      <td>[An enlightening script, expert ensemble actin...</td>\n      <td>English</td>\n      <td>Eliza Hittman</td>\n      <td>Eliza Hittman</td>\n      <td>Mar 13, 2020</td>\n      <td>Apr 3, 2020</td>\n      <td>$16.3K</td>\n      <td>1h 41m</td>\n    </tr>\n    <tr>\n      <th>5</th>\n      <td>Soul (2020)</td>\n      <td>0.95</td>\n      <td>comedy, kids and family, animation, adventure</td>\n      <td>0.89</td>\n      <td>[I'm a fan for a number of reasons...it popped...</td>\n      <td>English</td>\n      <td>Pete Docter</td>\n      <td>Pete Docter</td>\n      <td>None</td>\n      <td>Dec 25, 2020</td>\n      <td>None</td>\n      <td>1h 40m</td>\n    </tr>\n    <tr>\n      <th>6</th>\n      <td>Hamilton (2020)</td>\n      <td>0.98</td>\n      <td>musical</td>\n      <td>0.9</td>\n      <td>[In a single song, Renee Elise Goldsberry show...</td>\n      <td>English</td>\n      <td>Thomas Kail</td>\n      <td>Ron Chernow</td>\n      <td>None</td>\n      <td>Jul 3, 2020</td>\n      <td>None</td>\n      <td>2h 40m</td>\n    </tr>\n    <tr>\n      <th>7</th>\n      <td>Nomadland (2020)</td>\n      <td>0.97</td>\n      <td>drama</td>\n      <td>None</td>\n      <td>[A captivating, immersive and deeply emotional...</td>\n      <td>English</td>\n      <td>Chloé Zhao</td>\n      <td>Chloé Zhao</td>\n      <td>Feb 19, 2021</td>\n      <td>None</td>\n      <td>None</td>\n      <td>1h 48m</td>\n    </tr>\n    <tr>\n      <th>8</th>\n      <td>Da 5 Bloods (2020)</td>\n      <td>0.92</td>\n      <td>war, drama</td>\n      <td>0.53</td>\n      <td>[From its sweeping jungle vistas to its full-f...</td>\n      <td>English</td>\n      <td>Spike Lee</td>\n      <td>Spike Lee</td>\n      <td>None</td>\n      <td>Jun 13, 2020</td>\n      <td>None</td>\n      <td>2h 35m</td>\n    </tr>\n    <tr>\n      <th>9</th>\n      <td>Sound of Metal (2020)</td>\n      <td>0.97</td>\n      <td>drama, music</td>\n      <td>0.89</td>\n      <td>[A purposefully-quiet film..., Riz Ahmed deliv...</td>\n      <td>English</td>\n      <td>Darius Marder</td>\n      <td>Darius Marder</td>\n      <td>Nov 20, 2020</td>\n      <td>Dec 4, 2020</td>\n      <td>None</td>\n      <td>2h</td>\n    </tr>\n  </tbody>\n</table>\n</div>"
     },
     "execution_count": 13,
     "metadata": {},
     "output_type": "execute_result"
    }
   ],
   "source": [
    "data.head(10)"
   ]
  },
  {
   "cell_type": "code",
   "execution_count": 14,
   "metadata": {},
   "outputs": [
    {
     "data": {
      "text/plain": "['...an exquisite love story.',\n 'Even without showing men onscreen, Sciamma depicts the myriad ways in which the patriarchy constricts the lives of her female protagonists.',\n \"It's a slow burn, sure, but the embers are remarkable.\",\n \"It could have been claustrophobic but the central story is so passionately involving you don't want to look elsewhere at all.\",\n 'This is a film about looking, female looking specifically.',\n \"It's an all-in effort, and Sciamma has created something of a masterwork. It's a deeply layered story - a brush-up on the story of Orpheus and Eurydice wouldn't hurt - with themes that transcend era and setting. This girl is on fire.\",\n \"[On a] deeper level, Portrait of a Lady on Fire is about filmmaking itself. Marianne the artist and Héloïse the model are the director and the actor, respectively, for the painting. It's a movie that plays inside of the movie.\",\n \"Both Noemie Merlant and Adele Haenel are flawlessly brilliant as two women who are blissfully in love yet rattled by their love's prolonged conclusion.\",\n 'Céline Sciama condones the almost voyeuristic viewpoint in this type of film and instead has the camera serve as an accomplice to what we see. [Full Review in Spanish]',\n 'An elegant, endlessly gorgeous piece of film that hits you right in the centre of your heart.',\n 'The development of the film is hidden under an apparent simplicity, where the tension falls into the deep gaze of their confused protagonists. [Full Review in Spanish]',\n 'Crackles and dances like the titular flames, as dangerous and unpredictable as it is beautiful and fascinating.',\n \"This girl is on fire.  So this is about a painter (Noémie Merlant).  She gets hired to paint a portrait of a young woman who will soon be married (Adèle Haenel).  The only catch is that it is the young woman's mother (Valeria Golino) who did the hiring, and the young woman can't know about the job since she outright refuses to pose.  Therefore, she must paint it in secret.  Now I always meant to check this one out, but I never found the time.  It was the one remaining film I wanted to see but missed on my 2019 best of the year list.  I felt it was only appropriate that I finish 2019 for good before 2021 started, so I figured I could get this in under the wire.  While I can't say that I am precisely the target audience for this film, I can say that the filmmaking here is impressive.  Now I was prepared for something that was on the art house side of the spectrum.  There is a bit of inaccessibility that sometimes comes with sophistication, which is why I put this off for as long as I did.  Right off the bat, however, I found myself pulled in by the cinematography.  It's gorgeous and breathtaking, and in my opinion, it is the reason to watch it.  As you can probably imagine, there are several scenes in this where you are just watching an artist paint, and I know how mundane that sounds, but director Céline Sciamma shoots it in such a way that makes it attention-grabbing.  Both of the leads here are talented as well.  I would liken Merlant to if Emma Watson and Lily James had a baby, and Haenel has a Greta Gerwig quality about her both in looks and acting abilities.  The story is bare-bones, but the fact that you are in on the secret makes tension for the audience.  I will say that I was much more invested in the first half than I was in the second.  I was more into this story of this renegade painter.  Once it shifts gears into the forbidden romance story that it is advertised to be, that is when this became more standard for me.  Everybody is already well aware of how accepting society was two hundred years ago, so you can make a reasonably educated guess on how all of this will end up.  Portrait of a Lady on Fire is a movie that you let wash over you, and I think that will give you an idea on if this is for you or not.  If you gravitate towards foreign and artsy films, you will have a high chance of enjoying this.  I also think that there's another audience that will just be bored with this.  I don't think either camp is wrong; I lean more towards the former than the latter, even though I identify as being in the middle.  I give this one a decent recommendation.\",\n 'Nothing original but a killer version of this type of movie. Personal, poignant, heartbreaking.',\n 'Fabulous but made me cry a lot.',\n 'Céline Sciamma\\'s Portrait of a Lady on Fire, the story of a love affair between a portrait painter, Marianne (Noémie Merlant), and her subject Heloïse (Adèle Haenel), is a film about  love, loss, and art. Heloïse teaches Marianne to look, even when seeing is uncomfortable, and to paint what she sees, not what convention demands. Sciamma\\'s film, every frame of which  recalls a masterpiece of painting, teaches us, too, to see the everyday (albeit an 18th-century Brittany everyday) with the visual acuity of an artist. \\n\\nThe characters pose the question of why, in Ovid\\'s tale,  the musician Orpheus turned to look at his beloved Euridice before she emerged from the underworld, thereby sending her back into death and dooming himself to unending loss. The painter says that Orpheus chose remembering over possessing. Her subject suggests that Eurydice told Orpheus to turn around, achieving his fate and hers.  \\n\\nThe film asserts the indispensability of suffering to the formation of both the sensibility of the artist and the receptive capacity of the artist\\'s audience. In this rendering of Ovid\\'s story, both lovers are responsible for the love affair\\'s end. Like Ovid, they understand that, in the words of Wallace Stevens, \"death is the mother of beauty.\"  In the final scene we see Heloïse, attentively listening to a concert performance of Vivaldi\\'s The Four Seasons, sobbing silently, and smiling between her sobs.',\n \"Slow but deliberate, Portrait of a Woman on Fire is crafted with a visual minimalism but an exceptional capability and sophistication to its screenplay, both in dialogue and pacing. The organic growth of the relationship and the clandestine, conflicted nature of its development are both spot on; small moments that seize the screen and spark something greater. The film is mesmerizing, like being lulled to sleep but somehow preserving an electric current throughout each scene. Merlant and Haenel put on a clinic in passion, which they show to not be a constantly hyperactive state, but can be restrained without losing potency. A simple, powerful love story that embraces the tragedy of love's inevitable fate, made all more poignant and pressing by the circumstances of these two women; contrasting a painting that will endure (but that represents a loveless, expedient relationship) with the abridged, doomed, powerful beauty of true passion is like comparing an abyss to a supernova. Honestly, I'm struggling to find a way in which this film could have been meanignfully improved upon. (5/5)\",\n \"A slow-burning, lesbian, 18th-century costume drama set in a lot of dark rooms but also gorgeous rocky coastal scenes to break up the monotony. Film was highly rated for its intellectual content. We'll give it *** out of four (in the Leonard Maltin GPA system) and leave it at that.\",\n \"Beautiful, just flat out beautiful. I don't know why it took me so long to watch this masterpiece that left my heart wrenching.\",\n \"Art in the eyes of women... it's overrated.\",\n \"The cinematography in this film is like fire to a moth, and yes... we are the moth in this reference.  Every silent moment and glance between characters had equal meaning as those filled with dialogue. As the film progresses we get a beautiful look at life as a woman from an actual woman's perceptive. The relationship is based on two women and for once a film chose not to over-sexualize a single moment of their relationship. It was a breath of fresh air to see the authenticity of modern day feminism in a historical light. If I had fully connected with the protagonists and felt more emotion and passion through their love, this movie would have received a full 4 star rating. If you are looking for a poetic and artistic film with a beautiful portrayal of the femme struggle this is it.\",\n 'Beautiful. Can’t get the last scene out of my head']"
     },
     "execution_count": 14,
     "metadata": {},
     "output_type": "execute_result"
    }
   ],
   "source": [
    "data.reviews[0]"
   ]
  },
  {
   "cell_type": "code",
   "execution_count": 7,
   "metadata": {},
   "outputs": [
    {
     "data": {
      "text/plain": [
       "(100, 5)"
      ]
     },
     "execution_count": 7,
     "metadata": {},
     "output_type": "execute_result"
    }
   ],
   "source": [
    "data.shape"
   ]
  },
  {
   "cell_type": "code",
   "execution_count": null,
   "metadata": {},
   "outputs": [],
   "source": []
  },
  {
   "cell_type": "code",
   "execution_count": 20,
   "outputs": [
    {
     "data": {
      "text/plain": "\"It could have been claustrophobic but the central story is so passionately involving you don't want to look elsewhere at all.\""
     },
     "execution_count": 20,
     "metadata": {},
     "output_type": "execute_result"
    }
   ],
   "source": [
    "reviews = data.reviews.values\n",
    "reviews[0][3]"
   ],
   "metadata": {
    "collapsed": false,
    "pycharm": {
     "name": "#%%\n"
    }
   }
  }
 ],
 "metadata": {
  "kernelspec": {
   "display_name": "Python 3",
   "language": "python",
   "name": "python3"
  },
  "language_info": {
   "codemirror_mode": {
    "name": "ipython",
    "version": 3
   },
   "file_extension": ".py",
   "mimetype": "text/x-python",
   "name": "python",
   "nbconvert_exporter": "python",
   "pygments_lexer": "ipython3",
   "version": "3.8.3"
  }
 },
 "nbformat": 4,
 "nbformat_minor": 4
}